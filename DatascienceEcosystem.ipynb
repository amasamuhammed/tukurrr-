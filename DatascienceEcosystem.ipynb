{
 "cells": [
  {
   "cell_type": "markdown",
   "id": "b077f160",
   "metadata": {},
   "source": [
    "# Data Science Tools and Ecosystem"
   ]
  },
  {
   "cell_type": "markdown",
   "id": "bdd1ae64",
   "metadata": {},
   "source": [
    "In this notebook, Data science Tools and Ecosystem are summarized."
   ]
  },
  {
   "cell_type": "markdown",
   "id": "a9ead5d4",
   "metadata": {},
   "source": [
    "**Objectives:**\n",
    "* List popular programming languages on data science.\n",
    "* Introductuion to key data scince tools\n",
    "* Basic arithmetic operations in python\n",
    "* Conversion of minutes to hours in python"
   ]
  },
  {
   "cell_type": "markdown",
   "id": "7e536986",
   "metadata": {},
   "source": [
    "some of the popular languages that data scientists use are \n",
    "1. python\n",
    "2. SQL\n",
    "3. C/C++"
   ]
  },
  {
   "cell_type": "markdown",
   "id": "a72a4fe0",
   "metadata": {},
   "source": [
    "some of the commonly ued libraries used by data scientist include:\n",
    "1. PyTorch\n",
    "2. Pandas\n",
    "3. NumPy"
   ]
  },
  {
   "cell_type": "markdown",
   "id": "b8f9ece2",
   "metadata": {},
   "source": [
    "-----------------------------\n",
    "|Data science Tools|\n",
    "----------------------------\n",
    "|Jupyter notebook|\n",
    "|Rstudio|\n",
    "|IBM watson|"
   ]
  },
  {
   "cell_type": "markdown",
   "id": "f125aca9",
   "metadata": {},
   "source": [
    "### Below are few examples of evaluating arithmetic expressions in python\n",
    "\n"
   ]
  },
  {
   "cell_type": "code",
   "execution_count": 9,
   "id": "2930cad3",
   "metadata": {
    "scrolled": true
   },
   "outputs": [
    {
     "data": {
      "text/plain": [
       "17"
      ]
     },
     "execution_count": 9,
     "metadata": {},
     "output_type": "execute_result"
    }
   ],
   "source": [
    "(3*4)+5\n",
    "\n"
   ]
  },
  {
   "cell_type": "markdown",
   "id": "12e04730",
   "metadata": {},
   "source": [
    "this is a simple arithmetic expression to multiply then add integers"
   ]
  },
  {
   "cell_type": "markdown",
   "id": "e0e99803",
   "metadata": {},
   "source": [
    "This will convert 200 minutes to hours by dividing by 60."
   ]
  },
  {
   "cell_type": "code",
   "execution_count": 10,
   "id": "257516b6",
   "metadata": {},
   "outputs": [
    {
     "data": {
      "text/plain": [
       "3.3333333333333335"
      ]
     },
     "execution_count": 10,
     "metadata": {},
     "output_type": "execute_result"
    }
   ],
   "source": [
    "minutes = 200\n",
    "hours = minutes/60\n",
    "hours"
   ]
  },
  {
   "cell_type": "markdown",
   "id": "c3b7db06",
   "metadata": {},
   "source": [
    "## author\n",
    "Amasa muhammed Tukur"
   ]
  }
 ],
 "metadata": {
  "kernelspec": {
   "display_name": "Python 3 (ipykernel)",
   "language": "python",
   "name": "python3"
  },
  "language_info": {
   "codemirror_mode": {
    "name": "ipython",
    "version": 3
   },
   "file_extension": ".py",
   "mimetype": "text/x-python",
   "name": "python",
   "nbconvert_exporter": "python",
   "pygments_lexer": "ipython3",
   "version": "3.11.5"
  }
 },
 "nbformat": 4,
 "nbformat_minor": 5
}
